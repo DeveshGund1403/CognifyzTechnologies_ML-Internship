{
  "nbformat": 4,
  "nbformat_minor": 0,
  "metadata": {
    "colab": {
      "provenance": [],
      "authorship_tag": "ABX9TyNUYiHXzhssQowXTfczk7ir",
      "include_colab_link": true
    },
    "kernelspec": {
      "name": "python3",
      "display_name": "Python 3"
    },
    "language_info": {
      "name": "python"
    }
  },
  "cells": [
    {
      "cell_type": "markdown",
      "metadata": {
        "id": "view-in-github",
        "colab_type": "text"
      },
      "source": [
        "<a href=\"https://colab.research.google.com/github/DeveshGund1403/CognifyzTechnologies_ML-Internship/blob/main/Restraunt_Recommendation.ipynb\" target=\"_parent\"><img src=\"https://colab.research.google.com/assets/colab-badge.svg\" alt=\"Open In Colab\"/></a>"
      ]
    },
    {
      "cell_type": "code",
      "execution_count": 1,
      "metadata": {
        "colab": {
          "base_uri": "https://localhost:8080/"
        },
        "id": "zmWP1MPbr05X",
        "outputId": "fa120be0-feba-4e19-f1d4-6c74db03d8b9"
      },
      "outputs": [
        {
          "output_type": "stream",
          "name": "stdout",
          "text": [
            "   Restaurant ID         Restaurant Name  Country Code              City  \\\n",
            "0        6317637        Le Petit Souffle           162       Makati City   \n",
            "1        6304287        Izakaya Kikufuji           162       Makati City   \n",
            "2        6300002  Heat - Edsa Shangri-La           162  Mandaluyong City   \n",
            "3        6318506                    Ooma           162  Mandaluyong City   \n",
            "4        6314302             Sambo Kojin           162  Mandaluyong City   \n",
            "\n",
            "                                             Address  \\\n",
            "0  Third Floor, Century City Mall, Kalayaan Avenu...   \n",
            "1  Little Tokyo, 2277 Chino Roces Avenue, Legaspi...   \n",
            "2  Edsa Shangri-La, 1 Garden Way, Ortigas, Mandal...   \n",
            "3  Third Floor, Mega Fashion Hall, SM Megamall, O...   \n",
            "4  Third Floor, Mega Atrium, SM Megamall, Ortigas...   \n",
            "\n",
            "                                     Locality  \\\n",
            "0   Century City Mall, Poblacion, Makati City   \n",
            "1  Little Tokyo, Legaspi Village, Makati City   \n",
            "2  Edsa Shangri-La, Ortigas, Mandaluyong City   \n",
            "3      SM Megamall, Ortigas, Mandaluyong City   \n",
            "4      SM Megamall, Ortigas, Mandaluyong City   \n",
            "\n",
            "                                    Locality Verbose   Longitude   Latitude  \\\n",
            "0  Century City Mall, Poblacion, Makati City, Mak...  121.027535  14.565443   \n",
            "1  Little Tokyo, Legaspi Village, Makati City, Ma...  121.014101  14.553708   \n",
            "2  Edsa Shangri-La, Ortigas, Mandaluyong City, Ma...  121.056831  14.581404   \n",
            "3  SM Megamall, Ortigas, Mandaluyong City, Mandal...  121.056475  14.585318   \n",
            "4  SM Megamall, Ortigas, Mandaluyong City, Mandal...  121.057508  14.584450   \n",
            "\n",
            "                           Cuisines  ...          Currency Has Table booking  \\\n",
            "0        French, Japanese, Desserts  ...  Botswana Pula(P)               Yes   \n",
            "1                          Japanese  ...  Botswana Pula(P)               Yes   \n",
            "2  Seafood, Asian, Filipino, Indian  ...  Botswana Pula(P)               Yes   \n",
            "3                   Japanese, Sushi  ...  Botswana Pula(P)                No   \n",
            "4                  Japanese, Korean  ...  Botswana Pula(P)               Yes   \n",
            "\n",
            "  Has Online delivery Is delivering now Switch to order menu Price range  \\\n",
            "0                  No                No                   No         3.0   \n",
            "1                  No                No                   No         3.0   \n",
            "2                  No                No                   No         4.0   \n",
            "3                  No                No                   No         4.0   \n",
            "4                  No                No                   No         4.0   \n",
            "\n",
            "   Aggregate rating  Rating color Rating text  Votes  \n",
            "0               4.8    Dark Green   Excellent  314.0  \n",
            "1               4.5    Dark Green   Excellent  591.0  \n",
            "2               4.4         Green   Very Good  270.0  \n",
            "3               4.9    Dark Green   Excellent  365.0  \n",
            "4               4.8    Dark Green   Excellent  229.0  \n",
            "\n",
            "[5 rows x 21 columns]\n",
            "Restaurant ID            0\n",
            "Restaurant Name          0\n",
            "Country Code             0\n",
            "City                     0\n",
            "Address                  0\n",
            "Locality                 0\n",
            "Locality Verbose         0\n",
            "Longitude                0\n",
            "Latitude                 0\n",
            "Cuisines                10\n",
            "Average Cost for two     1\n",
            "Currency                 1\n",
            "Has Table booking        1\n",
            "Has Online delivery      1\n",
            "Is delivering now        1\n",
            "Switch to order menu     1\n",
            "Price range              1\n",
            "Aggregate rating         1\n",
            "Rating color             1\n",
            "Rating text              1\n",
            "Votes                    1\n",
            "dtype: int64\n",
            "['French, Japanese, Desserts' 'Japanese'\n",
            " 'Seafood, Asian, Filipino, Indian' ... 'Tibetan, Street Food'\n",
            " 'North Indian, Mughlai, Chinese, Raw Meats'\n",
            " 'Continental, Fast Food, Asian, Italian']\n",
            "[ 3.  4.  2.  1. nan]\n",
            "['Makati City' 'Mandaluyong City' 'Pasay City' 'Pasig City' 'Quezon City'\n",
            " 'San Juan City' 'Santa Rosa' 'Tagaytay City' 'Taguig City' 'Bras�_lia'\n",
            " 'Rio de Janeiro' 'S��o Paulo' 'Albany' 'Armidale' 'Athens' 'Augusta'\n",
            " 'Balingup' 'Beechworth' 'Boise' 'Cedar Rapids/Iowa City' 'Chatham-Kent'\n",
            " 'Clatskanie' 'Cochrane' 'Columbus' 'Consort' 'Dalton' 'Davenport'\n",
            " 'Des Moines' 'Dicky Beach' 'Dubuque' 'East Ballina' 'Fernley' 'Flaxton'\n",
            " 'Forrest' 'Gainesville' 'Hepburn Springs' 'Huskisson' 'Inverloch'\n",
            " 'Lakes Entrance' 'Lakeview' 'Lincoln' 'Lorn' 'Macedon' 'Macon' 'Mayfield'\n",
            " 'Mc Millan' 'Middleton Beach' 'Miller' 'Monroe' 'Montville'\n",
            " 'Ojo Caliente' 'Orlando' 'Palm Cove' 'Paynesville' 'Penola' 'Pensacola'\n",
            " 'Phillip Island' 'Pocatello' 'Potrero' 'Princeton' 'Rest of Hawaii'\n",
            " 'Savannah' 'Singapore' 'Sioux City' 'Tampa Bay' 'Tanunda' 'Trentham East'\n",
            " 'Valdosta' 'Vernonia' 'Victor Harbor' 'Vineland Station' 'Waterloo'\n",
            " 'Weirton' 'Winchester Bay' 'Yorkton' 'Abu Dhabi' 'Dubai' 'Sharjah' 'Agra'\n",
            " 'Ahmedabad' 'Allahabad' 'Amritsar' 'Aurangabad' 'Bangalore' 'Bhopal'\n",
            " 'Bhubaneshwar' 'Chandigarh' 'Chennai' 'Coimbatore' 'Dehradun' 'Faridabad'\n",
            " 'Ghaziabad' 'Goa' 'Gurgaon' 'Guwahati' 'Hyderabad' 'Indore' 'Jaipur'\n",
            " 'Kanpur' 'Kochi' 'Kolkata' 'Lucknow' 'Ludhiana' 'Mangalore' 'Mohali'\n",
            " 'Mumbai' 'Mysore' 'Nagpur' 'Nashik' 'New Delhi' 'Noida']\n"
          ]
        }
      ],
      "source": [
        "import pandas as pd\n",
        "\n",
        "# Load the dataset\n",
        "file_path = \"/content/Dataset .csv\"\n",
        "restaurant_data = pd.read_csv(file_path)\n",
        "\n",
        "\n",
        "# Display the first few rows of the dataset\n",
        "print(restaurant_data.head())\n",
        "\n",
        "# Check for missing values\n",
        "print(restaurant_data.isnull().sum())\n",
        "\n",
        "# Check unique values for each column\n",
        "print(restaurant_data['Cuisines'].unique())\n",
        "print(restaurant_data['Price range'].unique())\n",
        "print(restaurant_data['City'].unique())\n"
      ]
    },
    {
      "cell_type": "code",
      "source": [
        "# Drop rows with missing values\n",
        "restaurant_data.dropna(inplace=True)\n",
        "\n",
        "restaurant_data['City'] = restaurant_data['City'].str.strip().str.title()\n",
        "\n",
        "restaurant_data['Price range'] = restaurant_data['Price range'].astype(int)\n",
        "\n",
        "# Save cleaned dataset\n",
        "cleaned_file_path = \"/content/Cleaned_Dataset 1.csv\"\n",
        "restaurant_data.to_csv(cleaned_file_path, index=False)"
      ],
      "metadata": {
        "id": "ohMAgh87sSJ0"
      },
      "execution_count": 2,
      "outputs": []
    },
    {
      "cell_type": "code",
      "source": [
        "import pandas as pd\n",
        "import matplotlib.pyplot as plt\n",
        "import seaborn as sns\n",
        "from sklearn.feature_extraction.text import TfidfVectorizer\n",
        "from sklearn.metrics.pairwise import linear_kernel\n",
        "\n",
        "# Load the dataset\n",
        "restaurant_data = pd.read_csv(\"/content/Cleaned_Dataset 1.csv\")\n",
        "\n",
        "restaurant_data.dropna(inplace=True)\n",
        "\n",
        "restaurant_data['features'] = restaurant_data['Cuisines'] + ' ' + restaurant_data['City']\n",
        "\n",
        "tfidf_vectorizer = TfidfVectorizer(stop_words='english')\n",
        "\n",
        "tfidf_matrix = tfidf_vectorizer.fit_transform(restaurant_data['features'])\n",
        "\n",
        "cosine_sim = linear_kernel(tfidf_matrix, tfidf_matrix)\n",
        "\n",
        "def recommend_restaurants(user_preferences, cosine_sim=cosine_sim):\n",
        "\n",
        "    filtered_restaurants = restaurant_data.copy()\n",
        "    for criterion, value in user_preferences.items():\n",
        "        if criterion in filtered_restaurants.columns:\n",
        "            filtered_restaurants = filtered_restaurants[filtered_restaurants[criterion] == value]\n",
        "\n",
        "    indices = filtered_restaurants.index.tolist()\n",
        "\n",
        "    sim_scores = list(enumerate(cosine_sim[indices]))\n",
        "\n",
        "    sim_scores = sorted(sim_scores, key=lambda x: x[1], reverse=True)\n",
        "\n",
        "    top_indices = [x[0] for x in sim_scores[1:6]]\n",
        "    recommendations = restaurant_data.iloc[top_indices]\n",
        "\n",
        "    return recommendations\n",
        "\n",
        "plt.figure(figsize=(8, 6))\n",
        "sns.countplot(data=restaurant_data, x='Price range')\n",
        "plt.title('Distribution of Price Range')\n",
        "plt.xlabel('Price Range')\n",
        "plt.ylabel('Count')\n",
        "plt.show()\n"
      ],
      "metadata": {
        "colab": {
          "base_uri": "https://localhost:8080/",
          "height": 564
        },
        "id": "WscGyXMGsULm",
        "outputId": "e5bb85c8-7a7f-4b6e-d7de-e9b9708f18d4"
      },
      "execution_count": 3,
      "outputs": [
        {
          "output_type": "display_data",
          "data": {
            "text/plain": [
              "<Figure size 800x600 with 1 Axes>"
            ],
            "image/png": "[encoded data removed]"
          },
          "metadata": {}
        }
      ]
    }
  ]
}